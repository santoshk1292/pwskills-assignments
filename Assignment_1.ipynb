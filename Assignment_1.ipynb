{
  "nbformat": 4,
  "nbformat_minor": 0,
  "metadata": {
    "colab": {
      "provenance": []
    },
    "kernelspec": {
      "name": "python3",
      "display_name": "Python 3"
    },
    "language_info": {
      "name": "python"
    }
  },
  "cells": [
    {
      "cell_type": "markdown",
      "source": [
        "#1. Who developed Python programming language?\n",
        "A. Guido van Rossum\n",
        "\n",
        "#2. Which type of programming does Python supports?\n",
        "A. Dynamic\n",
        "\n",
        "#3. Is Python case sensitive when dealing with identifiers?\n",
        "A. Yes\n",
        "\n",
        "#4. What is the correct extension of the Python file?\n",
        "A. .py\n",
        "\n",
        "#5. Is Python code Compiled or Interpreted?\n",
        "A. Interpreted\n",
        "\n",
        "#6. Name a few blocks of code used to define in Python language?\n",
        "A. Indentation is used to define a block of code in Python. For example - \n",
        "def testsample():\n",
        "  a=1\n",
        "  b=1\n",
        "  return a+b\n",
        "\n",
        "#7. State a character used to give single-line comments in Python?\n",
        "A. #\n",
        "\n",
        "#8. Mention funtions which can help us to find the version of Python that we are currently working on?\n",
        "A. sys. version method, python_version() function, Python -V command.\n",
        "\n",
        "#9. Python supports the creation of anonymous functions at runtime using a construct called ?\n",
        "A. Lambda\n",
        "\n",
        "#10. What does pip stands for?\n",
        "A. preferred installer program\n",
        "\n",
        "#11. Mention a few built-in functions in Python?\n",
        "A. print(), input(), sorted(), max() etc.,\n",
        "\n",
        "#12. What is the maximum possible length of an identifier in Python?\n",
        "A. 79 Characters\n",
        "\n",
        "#13. What are the benifits of using Python?\n",
        "A. It can be used for Web development, automation, Data Analysis, Data Science, Data Visualization etc.,\n",
        "\n",
        "#14. How is memory managed in Python?\n",
        "A. Memory management in Python involves a private heap containing all Python objects and data structures. The management of this private heap is ensured internally by the Python memory manager.\n",
        "\n",
        "#15. How to install Python on windows and set path variables?\n",
        "A. Open a browser to the Python website and download the Windows installer. Double click on the downloaded file(.exe file) and install Python for all users, and ensure that Python is added to your path. Click on Install now to begin the installation.\n",
        "\n",
        "#16. Is indentation required in Python?\n",
        "A. Yes\n"
      ],
      "metadata": {
        "id": "bAGv8eLego1F"
      }
    },
    {
      "cell_type": "markdown",
      "source": [],
      "metadata": {
        "id": "kkxo6hWfgs4j"
      }
    }
  ]
}