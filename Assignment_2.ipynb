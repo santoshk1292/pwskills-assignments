{
  "nbformat": 4,
  "nbformat_minor": 0,
  "metadata": {
    "colab": {
      "provenance": []
    },
    "kernelspec": {
      "name": "python3",
      "display_name": "Python 3"
    },
    "language_info": {
      "name": "python"
    }
  },
  "cells": [
    {
      "cell_type": "code",
      "execution_count": 4,
      "metadata": {
        "colab": {
          "base_uri": "https://localhost:8080/"
        },
        "id": "hFwA2Muim7pD",
        "outputId": "1e68ce08-87bf-498d-e1bd-85684e9d9fc2"
      },
      "outputs": [
        {
          "output_type": "stream",
          "name": "stdout",
          "text": [
            "Enter percentage: 45\n",
            "D\n"
          ]
        }
      ],
      "source": [
        "percentage = int(input(\"Enter percentage: \"))\n",
        "\n",
        "if (percentage > 90):\n",
        "  print(\"Grade A\")\n",
        "elif(percentage > 80 and percentage <= 90):\n",
        "  print(\"Grade B\")\n",
        "elif(percentage >= 60 and percentage <= 80):\n",
        "  print(\"Grade C\")\n",
        "else:\n",
        "  print(\"Grade D\")"
      ]
    },
    {
      "cell_type": "code",
      "source": [
        "cost_price = int(input(\"Enter cost proce of bike: \"))\n",
        "if (cost_price > 100000):\n",
        "  print(\"Road tax to be paid is:\", 0.15*cost_price)\n",
        "elif(cost_price > 50000 and cost_price <= 100000):\n",
        "  print(\"Road tax to be paid is:\", 0.1*cost_price)\n",
        "elif(cost_price <= 50000):\n",
        "  print(\"Road tax to be paid is:\", 0.05*cost_price)"
      ],
      "metadata": {
        "colab": {
          "base_uri": "https://localhost:8080/"
        },
        "id": "-1-yy6BfpJDq",
        "outputId": "00ca6e34-4509-484e-897a-733113cc2bb8"
      },
      "execution_count": 7,
      "outputs": [
        {
          "output_type": "stream",
          "name": "stdout",
          "text": [
            "Enter cost proce of bike: 10\n",
            "Road tax to be paid is: 0.5\n"
          ]
        }
      ]
    },
    {
      "cell_type": "code",
      "source": [
        "city = str(input(\"Enter city name: \"))\n",
        "if(city=='Delhi'):\n",
        "  print(\"Red Fort\")\n",
        "elif(city=='Agra'):\n",
        "  print(\"Taj Mahal\")\n",
        "elif(city=='Jaipur'):\n",
        "  print(\"Jal Mahal\")\n",
        "else:\n",
        "  print(\"Random city\")"
      ],
      "metadata": {
        "colab": {
          "base_uri": "https://localhost:8080/"
        },
        "id": "JKgL0SAwqpY4",
        "outputId": "1ac2ed4b-0a74-4689-99cf-27d44398c7e9"
      },
      "execution_count": 10,
      "outputs": [
        {
          "output_type": "stream",
          "name": "stdout",
          "text": [
            "Enter city name: Jaipur\n",
            "Jal Mahal\n"
          ]
        }
      ]
    },
    {
      "cell_type": "code",
      "source": [
        "number = int(input(\"Enter number: \"))\n",
        "count = 0\n",
        "\n",
        "if(number % 3 == 0):\n",
        "  temp = number\n",
        "  while(temp >= 10 and temp % 3==0):\n",
        "    q = temp//3\n",
        "    temp = q\n",
        "    count = count + 1\n",
        "print(f'Number of times {number} is divided by 3 before it is less than or equal to 10 is:', count)\n"
      ],
      "metadata": {
        "colab": {
          "base_uri": "https://localhost:8080/"
        },
        "id": "rkOqE5H9s3EX",
        "outputId": "03544414-a7bc-46db-a91a-9cf457b89fec"
      },
      "execution_count": 26,
      "outputs": [
        {
          "output_type": "stream",
          "name": "stdout",
          "text": [
            "Enter number: 90\n",
            "Number of times that 90 is divided by 3 before it is less than or equal to 10 is: 2\n"
          ]
        }
      ]
    },
    {
      "cell_type": "code",
      "source": [
        "'''A \"While\" Loop is used to repeat a specific block of code an unknown number of times, \n",
        "until a condition is met. For example, if we want to ask a user for a number between 1 and 10, \n",
        "we don't know how many times the user may enter a larger number, \n",
        "so we keep asking \"while the number is not between 1 and 10\".'''\n",
        "\n",
        "# Python program to illustrate\n",
        "# while loop\n",
        "count = 0\n",
        "while (count < 3):\n",
        "    count = count + 1\n",
        "    print(\"Hello PWSkills\")"
      ],
      "metadata": {
        "colab": {
          "base_uri": "https://localhost:8080/"
        },
        "id": "blKQ8WVeDlV3",
        "outputId": "38cf557f-95f6-4305-fe81-bfef049db034"
      },
      "execution_count": 27,
      "outputs": [
        {
          "output_type": "stream",
          "name": "stdout",
          "text": [
            "Hello PWSkills\n",
            "Hello PWSkills\n",
            "Hello PWSkills\n"
          ]
        }
      ]
    },
    {
      "cell_type": "code",
      "source": [
        "i=1\n",
        "while i<=5:\n",
        "    j=1\n",
        "    while j<=i:\n",
        "        print(j,end=\" \")\n",
        "        j=j+1\n",
        "    print(\"\")\n",
        "    i=i+1"
      ],
      "metadata": {
        "colab": {
          "base_uri": "https://localhost:8080/"
        },
        "id": "GOBMrrdxEaIM",
        "outputId": "a3a32efe-6c95-4ff6-d14a-222c41293153"
      },
      "execution_count": 28,
      "outputs": [
        {
          "output_type": "stream",
          "name": "stdout",
          "text": [
            "1 \n",
            "1 2 \n",
            "1 2 3 \n",
            "1 2 3 4 \n",
            "1 2 3 4 5 \n"
          ]
        }
      ]
    },
    {
      "cell_type": "code",
      "source": [
        "i = 10\n",
        "while i > 0:\n",
        "    print(i)\n",
        "    i = i - 1"
      ],
      "metadata": {
        "colab": {
          "base_uri": "https://localhost:8080/"
        },
        "id": "3U-EBe3BEx09",
        "outputId": "35a8fc5f-75d3-4e8f-acfb-993e21afa4d0"
      },
      "execution_count": 29,
      "outputs": [
        {
          "output_type": "stream",
          "name": "stdout",
          "text": [
            "10\n",
            "9\n",
            "8\n",
            "7\n",
            "6\n",
            "5\n",
            "4\n",
            "3\n",
            "2\n",
            "1\n"
          ]
        }
      ]
    }
  ]
}